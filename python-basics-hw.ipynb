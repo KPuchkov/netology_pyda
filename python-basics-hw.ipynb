{
 "cells": [
  {
   "cell_type": "markdown",
   "metadata": {},
   "source": [
    "**Задание 1**. Даны 2 строки: *long_phrase* и *short_phrase*. \n",
    "Напишите код, который проверяет действительно ли длинная фраза *long_phrase* длиннее короткой *short_phrase*. И выводит *True* или *False* в зависимости от результата сравнения."
   ]
  },
  {
   "cell_type": "code",
   "execution_count": null,
   "metadata": {},
   "outputs": [],
   "source": [
    "long_phrase = 'Насколько проще было бы писать программы, если бы не заказчики'\n",
    "short_phrase = '640Кб должно хватить для любых задач. Билл Гейтс (по легенде)'"
   ]
  },
  {
   "cell_type": "code",
   "execution_count": 2,
   "metadata": {},
   "outputs": [
    {
     "name": "stdout",
     "output_type": "stream",
     "text": [
      "True\n"
     ]
    }
   ],
   "source": [
    "long_phrase = 'Насколько проще было бы писать программы, если бы не заказчики'\n",
    "short_phrase = '640Кб должно хватить для любых задач. Билл Гейтс (по легенде)'\n",
    "print(len(long_phrase)>len(short_phrase))"
   ]
  },
  {
   "cell_type": "markdown",
   "metadata": {},
   "source": [
    "**Задание 2**. Дано значение объема файла в байтах. Напишите перевод этого значения в мегабайты в формате: \"*Объем файла равен 213.68Mb*\""
   ]
  },
  {
   "cell_type": "code",
   "execution_count": null,
   "metadata": {},
   "outputs": [],
   "source": [
    "file_b=int(input())\n",
    "file_Mb= file_b/1048576\n",
    "print('Объём файла равен', file_Mb, 'Mb')"
   ]
  },
  {
   "cell_type": "markdown",
   "metadata": {},
   "source": [
    "**Задание 3**. Разработать приложение для определения знака зодиака по дате рождения. Пример:\n",
    "\n",
    "Введите месяц: март\n",
    "\n",
    "Введите число: 6\n",
    "\n",
    "Вывод:\n",
    "Рыбы"
   ]
  },
  {
   "cell_type": "code",
   "execution_count": 2,
   "metadata": {},
   "outputs": [
    {
     "name": "stdout",
     "output_type": "stream",
     "text": [
      "Введите месяц:\n",
      "март\n",
      "Введите число:\n",
      "29\n",
      "Вывод: Овен\n"
     ]
    }
   ],
   "source": [
    "print('Введите месяц:')\n",
    "month=input()\n",
    "print('Введите число:')\n",
    "date=int(input())\n",
    "if ((date>=21 and month==('январь')) or (date<=18 and month==('февраль'))):\n",
    "    print('Вывод: Водолей')\n",
    "elif ((date>=19 and month==('февраль')) or (date<=20 and month==('март'))):\n",
    "    print('Вывод: Рыбы')\n",
    "elif ((date>=21 and month==('март')) or (date<=20 and month==('апрель'))):\n",
    "    print('Вывод: Овен')\n",
    "elif ((date>=21 and month==('апрель')) or (date<=21 and month==('май'))):\n",
    "    print('Вывод: Телец')\n",
    "elif ((date>=22 and month==('май')) or (date<=21 and month==('июнь'))):\n",
    "    print('Вывод: Близнецы')\n",
    "elif ((date>=22 and month==('июнь')) or (date<=22 and month==('июль'))):\n",
    "    print('Вывод: Рак')\n",
    "elif ((date>=23 and month==('июль')) or (date<=23 and month==('август'))):\n",
    "    print('Вывод: Лев')\n",
    "elif ((date>=24 and month==('август')) or (date<=22 and month==('сентябрь'))):\n",
    "    print('Вывод: Дева')\n",
    "elif ((date>=23 and month==('сентябрь')) or (date<=23 and month==('октябрь'))):\n",
    "    print('Вывод: Весы')\n",
    "elif ((date>=24 and month==('октябрь')) or (date<=22 and month==('ноябрь'))):\n",
    "    print('Вывод: Скорпион')\n",
    "elif ((date>=23 and month==('ноябрь')) or (date<=21 and month==('декабрь'))):\n",
    "    print('Вывод: Рыбы')\n",
    "else:\n",
    "    print('Вывод: Козерог')"
   ]
  },
  {
   "cell_type": "markdown",
   "metadata": {},
   "source": [
    "**Задание 4**. Нужно разработать приложение для финансового планирования.\n",
    "Приложение учитывает сколько уходит на ипотеку, \"на жизнь\" и сколько нужно отложить на пенсию.\n",
    "Пользователь вводит:\n",
    "- заработанную плату в месяц.\n",
    "- сколько процентов от ЗП уходит на ипотеку.\n",
    "- сколько процентов от ЗП уходит \"на жизнь\".\n",
    "- сколько раз приходит премия в год.\n",
    "\n",
    "Остальная часть заработанной платы откладывается на пенсию.\n",
    "\n",
    "Также пользователю приходит премия в размере зарплаты, от которой половина уходит на отпуск, а вторая половина откладывается.\n",
    "\n",
    "Программа должна учитывать сколько премий было в год.\n",
    "\n",
    "Нужно вывести сколько денег тратит пользователь на ипотеку и сколько он накопит за год.\n",
    "\n",
    "Пример:\n",
    "\n",
    "Введите заработанную плату в месяц: 100000\n",
    "\n",
    "Введите сколько процентов уходит на ипотеку: 30\n",
    "\n",
    "Введите сколько процентов уходит на жизнь: 50\n",
    "\n",
    "Введите количество премий за год: 2\n",
    "\n",
    "Вывод:\n",
    "На ипотеку было потрачено: 360000 рублей\n",
    "Было накоплено: 340000 рублей"
   ]
  },
  {
   "cell_type": "code",
   "execution_count": 16,
   "metadata": {},
   "outputs": [
    {
     "name": "stdout",
     "output_type": "stream",
     "text": [
      "Введите заработанную плату в месяц:\n",
      "100000\n",
      "Введите сколько процентов уходит на ипотеку:\n",
      "30\n",
      "Введите сколько процентов уходит на жизнь:\n",
      "50\n",
      "Введите количество премий за год:\n",
      "2\n",
      "Вывод: На ипотеку было потрачено 360000.0 рублей Было накоплено 340000.0\n"
     ]
    }
   ],
   "source": [
    "print('Введите заработанную плату в месяц:')\n",
    "salary=int(input())\n",
    "print('Введите сколько процентов уходит на ипотеку:')\n",
    "mortgage=int(input())\n",
    "print('Введите сколько процентов уходит на жизнь:')\n",
    "expense=int(input())\n",
    "print('Введите количество премий за год:')\n",
    "bonus=int(input())\n",
    "print('Вывод: На ипотеку было потрачено', (salary*mortgage*0.01*12),'рублей Было накоплено', (salary*(100-mortgage-expense)*0.01*12+salary*bonus*0.5))"
   ]
  },
  {
   "cell_type": "code",
   "execution_count": null,
   "metadata": {},
   "outputs": [],
   "source": []
  }
 ],
 "metadata": {
  "kernelspec": {
   "display_name": "Python 3",
   "language": "python",
   "name": "python3"
  },
  "language_info": {
   "codemirror_mode": {
    "name": "ipython",
    "version": 3
   },
   "file_extension": ".py",
   "mimetype": "text/x-python",
   "name": "python",
   "nbconvert_exporter": "python",
   "pygments_lexer": "ipython3",
   "version": "3.7.3"
  }
 },
 "nbformat": 4,
 "nbformat_minor": 2
}
